{
 "cells": [
  {
   "cell_type": "code",
   "execution_count": 3,
   "metadata": {},
   "outputs": [],
   "source": [
    "import cv2\n",
    "import os\n",
    "import shutil\n",
    "\n",
    "# Folder sumber dan tujuan\n",
    "source_folder = 'GAMBAR'\n",
    "blur_folder = 'blur_folder'\n",
    "sharp_folder = 'sharp_folder'\n",
    "\n",
    "# Buat folder jika belum ada\n",
    "os.makedirs(blur_folder, exist_ok=True)\n",
    "os.makedirs(sharp_folder, exist_ok=True)"
   ]
  },
  {
   "cell_type": "code",
   "execution_count": 4,
   "metadata": {},
   "outputs": [],
   "source": [
    "def is_blur(image_path, threshold=100):\n",
    "    image = cv2.imread(image_path)\n",
    "    gray = cv2.cvtColor(image, cv2.COLOR_BGR2GRAY)\n",
    "    laplacian_var = cv2.Laplacian(gray, cv2.CV_64F).var()\n",
    "    return laplacian_var < threshold"
   ]
  },
  {
   "cell_type": "code",
   "execution_count": 5,
   "metadata": {},
   "outputs": [],
   "source": [
    "for filename in os.listdir(source_folder):\n",
    "    if filename.endswith('.jpg') or filename.endswith('.png'):\n",
    "        file_path = os.path.join(source_folder, filename)\n",
    "        if is_blur(file_path):\n",
    "            shutil.move(file_path, os.path.join(blur_folder, filename))\n",
    "        else:\n",
    "            shutil.move(file_path, os.path.join(sharp_folder, filename))"
   ]
  },
  {
   "cell_type": "markdown",
   "metadata": {},
   "source": [
    "akurasi"
   ]
  },
  {
   "cell_type": "code",
   "execution_count": 16,
   "metadata": {},
   "outputs": [
    {
     "name": "stdout",
     "output_type": "stream",
     "text": [
      "Threshold: 10, Akurasi: 55.69%\n",
      "Gambar blur yang salah diklasifikasikan sebagai tajam: 218\n",
      "Gambar tajam yang salah diklasifikasikan sebagai blur: 0\n",
      "Gambar blur yang salah diklasifikasikan: ['103_HUAWEI-P20_F.jpg', '104_IPHONE-SE_F.jpg', '105_IPHONE-SE_F.jpg', '109_HONOR-7X_F.jpg', '10_ASUS-ZENFONE-LIVE-ZB501KL_F.jpg', '113_SAMSUNG-GALAXY-A5_F.jpg', '114_ASUS-ZE500KL_F.jpg', '116_BQ-5512L_F.jpg', '117_HONOR-7X_F.jpg', '118_HONOR-7X_F.jpg', '119_HONOR-7X_F.jpg', '11_XIAOMI-MI8-SE_F.jpg', '120_HONOR-7X_F.jpg', '121_HONOR-7X_F.jpg', '122_HONOR-7X_F.jpg', '124_HONOR-7X_F.jpg', '128_XIAOMI-MI8-SE_F.jpg', '12_SAMSUNG-GALAXY-J5_F.jpg', '13_IPHONE-8-PLUS_F.jpg', '140_SAMSUNG-GALAXY-J5_F.jpg', '155_HONOR-10_F.jpg', '156_HUAWEI-P30-LITE_F.jpg', '15_HONOR-7C_F.jpg', '160_HUAWEI-P20-LITE_F.jpg', '162_IPHONE-6S_F.jpg', '163_SAMSUNG-GALAXY-GRAND-PRIME-PLUS_F.jpg', '164_XIAOMI-MI8-SE_F.jpg', '165_SAMSUNG-GALAXY-J3_F.jpg', '166_XIAOMI-MI8-SE_F.jpg', '167_HONOR-7X_F.jpg', '169_HONOR-7X_F.jpg', '171_HUAWEI-P20-LITE_F.jpg', '172_IPHONE-SE_F.jpg', '173_IPHONE-SE_F.jpg', '174_HUAWEI-P20_F.jpg', '175_IPHONE-SE_F.jpg', '176_HONOR-7X_F.jpg', '177_HONOR-7X_F.jpg', '178_HONOR-7X_F.jpg', '17_HUAWEI-MATE20_F.jpg', '180_HONOR-10_F.jpg', '181_HONOR-10_F.jpg', '182_HONOR-10_F.jpg', '184_HONOR-10_F.jpg', '185_HONOR-6X_F.jpg', '186_HONOR-8_F.jpg', '187_XIAOMI-REDMI-4A_F.jpg', '189_HONOR-7X_F.jpg', '194_IPHONE-SE_F.jpg', '196_IPHONE-SE_F.jpg', '197_HUAWEI-P20-LITE_F.jpg', '198_HUAWEI-P20-LITE_F.jpg', '200_HUAWEI-MATE20_F.jpg', '201_IPHONE-SE_F.jpg', '202_HUAWEI-P20-LITE_F.jpg', '203_IPHONE-SE_F.jpg', '205_HUAWEI-P20-LITE_F.jpg', '206_IPHONE-7_F.jpg', '207_SAMSUNG-GALAXY-J7_F.jpg', '208_SAMSUNG-GALAXY-A5_F.jpg', '209_SAMSUNG-GALAXY-A8_F.jpg', '211_SAMSUNG-GALAXY-7-NEO_F.jpg', '212_IPHONE-SE_F.jpg', '213_ONEPLUS-3T_F.jpg', '214_IPHONE-SE_F.jpg', '215_LG-Q6_F.jpg', '216_ASUS-ZENFONE-LIVE-ZB501KL_F.jpg', '217_IPHONE-SE_F.jpg', '218_IPHONE-SE_F.jpg', '219_IPHONE-6S_F.jpg', '21_HUAWEI-Y9_F.jpg', '220_IPHONE-6_F.jpg', '221_IPHONE-SE_F.jpg', '222_IPHONE-SE_F.jpg', '223_HONOR-4C_F.jpg', '224_ONEPLUS-3T_F.jpg', '225_HONOR-7C_F.jpg', '227_SAMSUNG-GALAXY-A3_F.jpg', '228_ASUS-ZENFONE-LIVE-ZB501KL_F.jpg', '229_WILEYFOX-SWIFT-2-PLUS_F.jpg', '22_HUAWEI-Y9_F.jpg', '231_IPHONE-7-PLUS_F.jpg', '232_SAMSUNG-EDGE-7C_F.jpg', '234_XIAOMI-REDMI-NOTE-5A-PRIME_F.jpg', '235_IPHONE-SE_F.jpg', '236_IPHONE-SE_F.jpg', '237_SAMSUNG-GALAXY-J5_F.jpg', '238_HONOR-7X_F.jpg', '240_HONOR-7X_F.jpg', '241_HONOR-7X_F.jpg', '243_HONOR-7X_F.jpg', '244_HONOR-7X_F.jpg', '245_HONOR-7X_F.jpg', '246_HONOR-9_F.jpg', '247_HONOR-7X_F.jpg', '24_HUAWEI-Y9_F.jpg', '252_HUAWEI-P30_F.jpg', '253_XIAOMI-REDMI-NOTE-7_F.jpg', '255_XIAOMI-REDMI-7_F.jpg', '256_SAMSUNG-GALAXY-GRAND-PRIME_F.jpg', '257_HONOR-9_F.jpg', '258_HONOR-10_F.jpg', '259_XIAOMI-REDMI-7_F.jpg', '260_HUAWEI-NOVA-LITE_F.jpg', '261_HONOR-10_F.jpg', '262_IPHONE-SE_F.jpg', '265_HONOR-9-LITE_F.jpg', '26_HONOR-8X_F.jpg', '278_HONOR-7X_F.jpg', '283_HONOR-10_F.jpg', '287_WILEYFOX-SWIFT-2-PLUS_F.jpg', '288_XIAOMI-REDMI-NOTE-7_F.jpg', '289_WILEYFOX-SWIFT-2-PLUS_F.jpg', '28_HONOR-8X_F.jpg', '290_IPHONE-SE_F.jpg', '291_IPHONE-SE_F.jpg', '294_PRESTIGIO-MULTI-PHONE_F.jpg', '295_HONOR-7X_F.jpg', '29_HONOR-7X_F.jpg', '2_XIAOMI-PROCOFONE-F1_F.jpg', '300_XIAOMI-REDMI-NOTE-7_F.jpg', '303_SAMSUNG-GALAXY-A8_F.jpg', '304_SAMSUNG-GALAXY-J7_F.jpg', '305_HONOR-9_F.jpg', '306_XIAOMI-REDMI-5-PLUS_F.jpg', '307_HONOR-7X_F.jpg', '309_SAMSUNG-GALAXY-A8_F.jpg', '310_XIAOMI-PROCOFONE-F1_F.jpg', '312_ASUS-ZENFONE-LIVE-ZB501KL_F.jpg', '313_XIAOMI-PROCOFONE-F1_F.jpg', '315_HUAWEI-NOVA-LITE_F.jpg', '317_IPHONE-8-PLUS_F.jpg', '318_HONOR-7C_F.jpg', '319_XIAOMI-REDMI-NOTE-4X_F.jpg', '31_IPHONE-SE_F.jpg', '320_HONOR-7X_F.jpg', '322_HONOR-7C_F.jpg', '323_XIAOMI-PROCOFONE-F1_F.jpg', '324_ASUS-ZENFONE-LIVE-ZB501KL_F.jpg', '325_SAMSUNG-GALAXY-J3_F.jpg', '326_XIAOMI-PROCOFONE-F1_F.jpg', '327_IPHONE-SE_F.jpg', '328_SAMSUNG-GALAXY-J3_F.jpg', '329_HONOR-7C_F.jpg', '32_HUAWEI-P-SMART_F.jpg', '330_XIAOMI-PROCOFONE-F1_F.jpg', '331_XIAOMI-PROCOFONE-F1_F.jpg', '332_XIAOMI-PROCOFONE-F1_F.jpg', '333_HONOR-7X_F.jpg', '334_XIAOMI-PROCOFONE-F1_F.jpg', '335_XIAOMI-PROCOFONE-F1_F.jpg', '336_ASUS-ZENFONE-LIVE-ZB501KL_F.jpg', '337_XIAOMI-PROCOFONE-F1_F.jpg', '338_IPHONE-SE_F.jpg', '339_XIAOMI-REDMI-4X_F.jpg', '33_HONOR-8X_F.jpg', '340_XIAOMI-PROCOFONE-F1_F.jpg', '341_XIAOMI-PROCOFONE-F1_F.jpg', '342_XIAOMI-PROCOFONE-F1_F.jpg', '343_XIAOMI-PROCOFONE-F1_F.jpg', '344_XIAOMI-PROCOFONE-F1_F.jpg', '345_XIAOMI-PROCOFONE-F1_F.jpg', '346_HUAWEI-MATE20_F.jpg', '347_XIAOMI-PROCOFONE-F1_F.jpg', '349_IPHONE-SE_F.jpg', '34_HONOR-8X_F.jpg', '36_HONOR-8X_F.jpg', '37_HONOR-8X_F.jpg', '38_HONOR-8X_F.jpg', '39_XIAOMI-MI8-LITE_F.jpg', '41_XIAOMI-PROCOFONE-F1_F.jpg', '43_HONOR-8X_F.jpg', '45_HONOR-7X_F.jpg', '46_IPHONE-8-PLUS_F.jpg', '49_HONOR-8X_F.jpg', '4_XIAOMI-PROCOFONE-F1_F.jpg', '50_HONOR-8X_F.jpg', '51_IPHONE-SE_F.jpg', '55_HONOR-8X_F.jpg', '56_HONOR-8X_F.jpg', '57_IPHONE-SE_F.jpg', '59_IPHONE-6S_F.jpg', '5_XIAOMI-PROCOFONE-F1_F.jpg', '60_IPHONE-8-PLUS_F.jpg', '62_HONOR-8X_F.jpg', '63_HUAWEI-P20_F.jpg', '64_SAMSUNG-GALAXY-S5_F.jpg', '66_HONOR-8X_F.jpg', '67_HONOR-8X_F.jpg', '68_HONOR-8X_F.jpg', '69_SAMSUNG-GALAXY-J3_F.jpg', '6_HUAWEI-MATE20_F.jpg', '70_HONOR-8X_F.jpg', '71_SAMSUNG-GALAXY-A6_F.jpg', '72_IPHONE-8_F.jpg', '74_HONOR-8X_F.jpg', '75_HONOR-8X_F.jpg', '77_HONOR-7C_F.jpg', '79_HUAWEI-P30-PRO_F.jpg', '80_HUAWEI-P30-PRO_F.jpg', '81_SAMSUNG-GALAXY-J3_F.jpg', '82_HONOR-8X_F.jpg', '83_HONOR-8X_F.jpg', '85_HONOR-8X_F.jpg', '86_HONOR-8X_F.jpg', '87_IPHONE-8-PLUS_F.jpg', '88_HONOR-8X_F.jpg', '8_SAMSUNG-GALAXY-A6_F.jpg', '90_HONOR-7X_F.jpg', '91_HONOR-7X_F.jpg', '93_HONOR-7X_F.jpg', '94_HONOR-7X_F.jpg', '95_HONOR-7X_F.jpg', '96_HONOR-7X_F.jpg', '97_HONOR-7X_F.jpg', '98_HONOR-7X_F.jpg', '99_HONOR-7X_F.jpg', '9_HUAWEI-P20_F.jpg']\n",
      "Gambar tajam yang salah diklasifikasikan: []\n",
      "Threshold: 60, Akurasi: 81.50%\n",
      "Gambar blur yang salah diklasifikasikan sebagai tajam: 76\n",
      "Gambar tajam yang salah diklasifikasikan sebagai blur: 15\n",
      "Gambar blur yang salah diklasifikasikan: ['104_IPHONE-SE_F.jpg', '11_XIAOMI-MI8-SE_F.jpg', '128_XIAOMI-MI8-SE_F.jpg', '12_SAMSUNG-GALAXY-J5_F.jpg', '13_IPHONE-8-PLUS_F.jpg', '156_HUAWEI-P30-LITE_F.jpg', '160_HUAWEI-P20-LITE_F.jpg', '162_IPHONE-6S_F.jpg', '164_XIAOMI-MI8-SE_F.jpg', '165_SAMSUNG-GALAXY-J3_F.jpg', '166_XIAOMI-MI8-SE_F.jpg', '169_HONOR-7X_F.jpg', '175_IPHONE-SE_F.jpg', '180_HONOR-10_F.jpg', '187_XIAOMI-REDMI-4A_F.jpg', '196_IPHONE-SE_F.jpg', '197_HUAWEI-P20-LITE_F.jpg', '202_HUAWEI-P20-LITE_F.jpg', '205_HUAWEI-P20-LITE_F.jpg', '213_ONEPLUS-3T_F.jpg', '216_ASUS-ZENFONE-LIVE-ZB501KL_F.jpg', '222_IPHONE-SE_F.jpg', '223_HONOR-4C_F.jpg', '224_ONEPLUS-3T_F.jpg', '225_HONOR-7C_F.jpg', '227_SAMSUNG-GALAXY-A3_F.jpg', '228_ASUS-ZENFONE-LIVE-ZB501KL_F.jpg', '229_WILEYFOX-SWIFT-2-PLUS_F.jpg', '235_IPHONE-SE_F.jpg', '240_HONOR-7X_F.jpg', '246_HONOR-9_F.jpg', '247_HONOR-7X_F.jpg', '253_XIAOMI-REDMI-NOTE-7_F.jpg', '256_SAMSUNG-GALAXY-GRAND-PRIME_F.jpg', '258_HONOR-10_F.jpg', '262_IPHONE-SE_F.jpg', '283_HONOR-10_F.jpg', '287_WILEYFOX-SWIFT-2-PLUS_F.jpg', '288_XIAOMI-REDMI-NOTE-7_F.jpg', '289_WILEYFOX-SWIFT-2-PLUS_F.jpg', '290_IPHONE-SE_F.jpg', '291_IPHONE-SE_F.jpg', '294_PRESTIGIO-MULTI-PHONE_F.jpg', '300_XIAOMI-REDMI-NOTE-7_F.jpg', '306_XIAOMI-REDMI-5-PLUS_F.jpg', '307_HONOR-7X_F.jpg', '312_ASUS-ZENFONE-LIVE-ZB501KL_F.jpg', '315_HUAWEI-NOVA-LITE_F.jpg', '319_XIAOMI-REDMI-NOTE-4X_F.jpg', '323_XIAOMI-PROCOFONE-F1_F.jpg', '326_XIAOMI-PROCOFONE-F1_F.jpg', '328_SAMSUNG-GALAXY-J3_F.jpg', '330_XIAOMI-PROCOFONE-F1_F.jpg', '334_XIAOMI-PROCOFONE-F1_F.jpg', '335_XIAOMI-PROCOFONE-F1_F.jpg', '336_ASUS-ZENFONE-LIVE-ZB501KL_F.jpg', '340_XIAOMI-PROCOFONE-F1_F.jpg', '341_XIAOMI-PROCOFONE-F1_F.jpg', '342_XIAOMI-PROCOFONE-F1_F.jpg', '344_XIAOMI-PROCOFONE-F1_F.jpg', '345_XIAOMI-PROCOFONE-F1_F.jpg', '349_IPHONE-SE_F.jpg', '39_XIAOMI-MI8-LITE_F.jpg', '41_XIAOMI-PROCOFONE-F1_F.jpg', '4_XIAOMI-PROCOFONE-F1_F.jpg', '51_IPHONE-SE_F.jpg', '57_IPHONE-SE_F.jpg', '59_IPHONE-6S_F.jpg', '5_XIAOMI-PROCOFONE-F1_F.jpg', '60_IPHONE-8-PLUS_F.jpg', '72_IPHONE-8_F.jpg', '77_HONOR-7C_F.jpg', '81_SAMSUNG-GALAXY-J3_F.jpg', '87_IPHONE-8-PLUS_F.jpg', '8_SAMSUNG-GALAXY-A6_F.jpg', '97_HONOR-7X_F.jpg']\n",
      "Gambar tajam yang salah diklasifikasikan: ['105_IPHONE-SE_S.jpg', '15_HONOR-7C_S.jpg', '183_XIAOMI-REDMI-7_S.jpg', '20_XIAOMI-REDMI-3S_S.jpg', '221_IPHONE-SE_S.jpg', '230_NOKIA-21_S.jpg', '304_SAMSUNG-GALAXY-J7_S.jpg', '320_HONOR-7X_S.jpg', '322_HONOR-7C_S.jpg', '50_HONOR-8X_S.jpg', '52_HONOR-8X_S.jpg', '61_XIAOMI-REDMI-7_S.jpg', '64_SAMSUNG-GALAXY-S5_S.jpg', '67_HONOR-8X_S.jpg', '91_HONOR-7X_S.jpg']\n",
      "Threshold: 110, Akurasi: 82.93%\n",
      "Gambar blur yang salah diklasifikasikan sebagai tajam: 39\n",
      "Gambar tajam yang salah diklasifikasikan sebagai blur: 45\n",
      "Gambar blur yang salah diklasifikasikan: ['11_XIAOMI-MI8-SE_F.jpg', '128_XIAOMI-MI8-SE_F.jpg', '12_SAMSUNG-GALAXY-J5_F.jpg', '13_IPHONE-8-PLUS_F.jpg', '160_HUAWEI-P20-LITE_F.jpg', '162_IPHONE-6S_F.jpg', '164_XIAOMI-MI8-SE_F.jpg', '166_XIAOMI-MI8-SE_F.jpg', '187_XIAOMI-REDMI-4A_F.jpg', '197_HUAWEI-P20-LITE_F.jpg', '202_HUAWEI-P20-LITE_F.jpg', '205_HUAWEI-P20-LITE_F.jpg', '213_ONEPLUS-3T_F.jpg', '216_ASUS-ZENFONE-LIVE-ZB501KL_F.jpg', '223_HONOR-4C_F.jpg', '224_ONEPLUS-3T_F.jpg', '228_ASUS-ZENFONE-LIVE-ZB501KL_F.jpg', '240_HONOR-7X_F.jpg', '247_HONOR-7X_F.jpg', '253_XIAOMI-REDMI-NOTE-7_F.jpg', '256_SAMSUNG-GALAXY-GRAND-PRIME_F.jpg', '258_HONOR-10_F.jpg', '287_WILEYFOX-SWIFT-2-PLUS_F.jpg', '288_XIAOMI-REDMI-NOTE-7_F.jpg', '306_XIAOMI-REDMI-5-PLUS_F.jpg', '307_HONOR-7X_F.jpg', '312_ASUS-ZENFONE-LIVE-ZB501KL_F.jpg', '319_XIAOMI-REDMI-NOTE-4X_F.jpg', '326_XIAOMI-PROCOFONE-F1_F.jpg', '334_XIAOMI-PROCOFONE-F1_F.jpg', '335_XIAOMI-PROCOFONE-F1_F.jpg', '336_ASUS-ZENFONE-LIVE-ZB501KL_F.jpg', '342_XIAOMI-PROCOFONE-F1_F.jpg', '344_XIAOMI-PROCOFONE-F1_F.jpg', '345_XIAOMI-PROCOFONE-F1_F.jpg', '41_XIAOMI-PROCOFONE-F1_F.jpg', '4_XIAOMI-PROCOFONE-F1_F.jpg', '51_IPHONE-SE_F.jpg', '5_XIAOMI-PROCOFONE-F1_F.jpg']\n",
      "Gambar tajam yang salah diklasifikasikan: ['105_IPHONE-SE_S.jpg', '108_XIAOMI-MI8-SE_S.jpg', '15_HONOR-7C_S.jpg', '171_HUAWEI-P20-LITE_S.jpg', '173_IPHONE-SE_S.jpg', '183_XIAOMI-REDMI-7_S.jpg', '198_HUAWEI-P20-LITE_S.jpg', '200_HUAWEI-MATE20_S.jpg', '203_IPHONE-SE_S.jpg', '20_XIAOMI-REDMI-3S_S.jpg', '211_SAMSUNG-GALAXY-7-NEO_S.jpg', '212_IPHONE-SE_S.jpg', '214_IPHONE-SE_S.jpg', '215_LG-Q6_S.jpg', '21_HUAWEI-Y9_S.jpg', '221_IPHONE-SE_S.jpg', '227_SAMSUNG-GALAXY-A3_S.jpg', '22_HUAWEI-Y9_S.jpg', '230_NOKIA-21_S.jpg', '245_HONOR-7X_S.jpg', '24_HUAWEI-Y9_S.jpg', '256_SAMSUNG-GALAXY-GRAND-PRIME_S.jpg', '260_HUAWEI-NOVA-LITE_S.jpg', '291_IPHONE-SE_S.jpg', '29_HONOR-7X_S.jpg', '304_SAMSUNG-GALAXY-J7_S.jpg', '311_HONOR-6X_S.jpg', '315_HUAWEI-NOVA-LITE_S.jpg', '317_IPHONE-8-PLUS_S.jpg', '31_IPHONE-SE_S.jpg', '320_HONOR-7X_S.jpg', '322_HONOR-7C_S.jpg', '325_SAMSUNG-GALAXY-J3_S.jpg', '333_HONOR-7X_S.jpg', '36_HONOR-8X_S.jpg', '47_XIAOMI-REDMI-7_S.jpg', '50_HONOR-8X_S.jpg', '51_IPHONE-SE_S.jpg', '52_HONOR-8X_S.jpg', '61_XIAOMI-REDMI-7_S.jpg', '64_SAMSUNG-GALAXY-S5_S.jpg', '67_HONOR-8X_S.jpg', '70_HONOR-8X_S.jpg', '74_HONOR-8X_S.jpg', '91_HONOR-7X_S.jpg']\n",
      "Threshold: 160, Akurasi: 79.27%\n",
      "Gambar blur yang salah diklasifikasikan sebagai tajam: 27\n",
      "Gambar tajam yang salah diklasifikasikan sebagai blur: 75\n",
      "Gambar blur yang salah diklasifikasikan: ['128_XIAOMI-MI8-SE_F.jpg', '160_HUAWEI-P20-LITE_F.jpg', '162_IPHONE-6S_F.jpg', '164_XIAOMI-MI8-SE_F.jpg', '166_XIAOMI-MI8-SE_F.jpg', '187_XIAOMI-REDMI-4A_F.jpg', '197_HUAWEI-P20-LITE_F.jpg', '205_HUAWEI-P20-LITE_F.jpg', '216_ASUS-ZENFONE-LIVE-ZB501KL_F.jpg', '224_ONEPLUS-3T_F.jpg', '228_ASUS-ZENFONE-LIVE-ZB501KL_F.jpg', '253_XIAOMI-REDMI-NOTE-7_F.jpg', '256_SAMSUNG-GALAXY-GRAND-PRIME_F.jpg', '258_HONOR-10_F.jpg', '287_WILEYFOX-SWIFT-2-PLUS_F.jpg', '288_XIAOMI-REDMI-NOTE-7_F.jpg', '306_XIAOMI-REDMI-5-PLUS_F.jpg', '312_ASUS-ZENFONE-LIVE-ZB501KL_F.jpg', '319_XIAOMI-REDMI-NOTE-4X_F.jpg', '326_XIAOMI-PROCOFONE-F1_F.jpg', '334_XIAOMI-PROCOFONE-F1_F.jpg', '336_ASUS-ZENFONE-LIVE-ZB501KL_F.jpg', '342_XIAOMI-PROCOFONE-F1_F.jpg', '345_XIAOMI-PROCOFONE-F1_F.jpg', '41_XIAOMI-PROCOFONE-F1_F.jpg', '4_XIAOMI-PROCOFONE-F1_F.jpg', '5_XIAOMI-PROCOFONE-F1_F.jpg']\n",
      "Gambar tajam yang salah diklasifikasikan: ['105_IPHONE-SE_S.jpg', '108_XIAOMI-MI8-SE_S.jpg', '12_SAMSUNG-GALAXY-J5_S.jpg', '140_SAMSUNG-GALAXY-J5_S.jpg', '15_HONOR-7C_S.jpg', '167_HONOR-7X_S.jpg', '171_HUAWEI-P20-LITE_S.jpg', '172_IPHONE-SE_S.jpg', '173_IPHONE-SE_S.jpg', '181_HONOR-10_S.jpg', '183_XIAOMI-REDMI-7_S.jpg', '192_XIAOMI-MI8-SE_S.jpg', '194_IPHONE-SE_S.jpg', '196_IPHONE-SE_S.jpg', '198_HUAWEI-P20-LITE_S.jpg', '200_HUAWEI-MATE20_S.jpg', '201_IPHONE-SE_S.jpg', '203_IPHONE-SE_S.jpg', '20_XIAOMI-REDMI-3S_S.jpg', '211_SAMSUNG-GALAXY-7-NEO_S.jpg', '212_IPHONE-SE_S.jpg', '214_IPHONE-SE_S.jpg', '215_LG-Q6_S.jpg', '219_IPHONE-6S_S.jpg', '21_HUAWEI-Y9_S.jpg', '221_IPHONE-SE_S.jpg', '222_IPHONE-SE_S.jpg', '225_HONOR-7C_S.jpg', '227_SAMSUNG-GALAXY-A3_S.jpg', '22_HUAWEI-Y9_S.jpg', '230_NOKIA-21_S.jpg', '232_SAMSUNG-EDGE-7C_S.jpg', '234_XIAOMI-REDMI-NOTE-5A-PRIME_S.jpg', '235_IPHONE-SE_S.jpg', '245_HONOR-7X_S.jpg', '24_HUAWEI-Y9_S.jpg', '256_SAMSUNG-GALAXY-GRAND-PRIME_S.jpg', '257_HONOR-9_S.jpg', '260_HUAWEI-NOVA-LITE_S.jpg', '278_HONOR-7X_S.jpg', '289_WILEYFOX-SWIFT-2-PLUS_S.jpg', '291_IPHONE-SE_S.jpg', '29_HONOR-7X_S.jpg', '304_SAMSUNG-GALAXY-J7_S.jpg', '311_HONOR-6X_S.jpg', '315_HUAWEI-NOVA-LITE_S.jpg', '317_IPHONE-8-PLUS_S.jpg', '31_IPHONE-SE_S.jpg', '320_HONOR-7X_S.jpg', '322_HONOR-7C_S.jpg', '325_SAMSUNG-GALAXY-J3_S.jpg', '329_HONOR-7C_S.jpg', '332_XIAOMI-PROCOFONE-F1_S.jpg', '333_HONOR-7X_S.jpg', '338_IPHONE-SE_S.jpg', '33_HONOR-8X_S.jpg', '349_IPHONE-SE_S.jpg', '36_HONOR-8X_S.jpg', '47_XIAOMI-REDMI-7_S.jpg', '48_HONOR-8X_S.jpg', '50_HONOR-8X_S.jpg', '51_IPHONE-SE_S.jpg', '52_HONOR-8X_S.jpg', '56_HONOR-8X_S.jpg', '61_XIAOMI-REDMI-7_S.jpg', '64_SAMSUNG-GALAXY-S5_S.jpg', '67_HONOR-8X_S.jpg', '69_SAMSUNG-GALAXY-J3_S.jpg', '70_HONOR-8X_S.jpg', '71_SAMSUNG-GALAXY-A6_S.jpg', '74_HONOR-8X_S.jpg', '82_HONOR-8X_S.jpg', '83_HONOR-8X_S.jpg', '91_HONOR-7X_S.jpg', '97_HONOR-7X_S.jpg']\n",
      "Threshold: 210, Akurasi: 77.44%\n",
      "Gambar blur yang salah diklasifikasikan sebagai tajam: 18\n",
      "Gambar tajam yang salah diklasifikasikan sebagai blur: 93\n",
      "Gambar blur yang salah diklasifikasikan: ['128_XIAOMI-MI8-SE_F.jpg', '160_HUAWEI-P20-LITE_F.jpg', '162_IPHONE-6S_F.jpg', '164_XIAOMI-MI8-SE_F.jpg', '187_XIAOMI-REDMI-4A_F.jpg', '205_HUAWEI-P20-LITE_F.jpg', '216_ASUS-ZENFONE-LIVE-ZB501KL_F.jpg', '224_ONEPLUS-3T_F.jpg', '228_ASUS-ZENFONE-LIVE-ZB501KL_F.jpg', '256_SAMSUNG-GALAXY-GRAND-PRIME_F.jpg', '258_HONOR-10_F.jpg', '288_XIAOMI-REDMI-NOTE-7_F.jpg', '306_XIAOMI-REDMI-5-PLUS_F.jpg', '319_XIAOMI-REDMI-NOTE-4X_F.jpg', '326_XIAOMI-PROCOFONE-F1_F.jpg', '334_XIAOMI-PROCOFONE-F1_F.jpg', '4_XIAOMI-PROCOFONE-F1_F.jpg', '5_XIAOMI-PROCOFONE-F1_F.jpg']\n",
      "Gambar tajam yang salah diklasifikasikan: ['104_IPHONE-SE_S.jpg', '105_IPHONE-SE_S.jpg', '108_XIAOMI-MI8-SE_S.jpg', '10_ASUS-ZENFONE-LIVE-ZB501KL_S.jpg', '12_SAMSUNG-GALAXY-J5_S.jpg', '140_SAMSUNG-GALAXY-J5_S.jpg', '15_HONOR-7C_S.jpg', '167_HONOR-7X_S.jpg', '171_HUAWEI-P20-LITE_S.jpg', '172_IPHONE-SE_S.jpg', '173_IPHONE-SE_S.jpg', '174_HUAWEI-P20_S.jpg', '175_IPHONE-SE_S.jpg', '181_HONOR-10_S.jpg', '183_XIAOMI-REDMI-7_S.jpg', '192_XIAOMI-MI8-SE_S.jpg', '194_IPHONE-SE_S.jpg', '196_IPHONE-SE_S.jpg', '198_HUAWEI-P20-LITE_S.jpg', '200_HUAWEI-MATE20_S.jpg', '201_IPHONE-SE_S.jpg', '203_IPHONE-SE_S.jpg', '20_XIAOMI-REDMI-3S_S.jpg', '211_SAMSUNG-GALAXY-7-NEO_S.jpg', '212_IPHONE-SE_S.jpg', '214_IPHONE-SE_S.jpg', '215_LG-Q6_S.jpg', '219_IPHONE-6S_S.jpg', '21_HUAWEI-Y9_S.jpg', '221_IPHONE-SE_S.jpg', '222_IPHONE-SE_S.jpg', '225_HONOR-7C_S.jpg', '227_SAMSUNG-GALAXY-A3_S.jpg', '22_HUAWEI-Y9_S.jpg', '230_NOKIA-21_S.jpg', '232_SAMSUNG-EDGE-7C_S.jpg', '234_XIAOMI-REDMI-NOTE-5A-PRIME_S.jpg', '235_IPHONE-SE_S.jpg', '237_SAMSUNG-GALAXY-J5_S.jpg', '245_HONOR-7X_S.jpg', '24_HUAWEI-Y9_S.jpg', '254_XIAOMI-REDMI-7_S.jpg', '256_SAMSUNG-GALAXY-GRAND-PRIME_S.jpg', '257_HONOR-9_S.jpg', '260_HUAWEI-NOVA-LITE_S.jpg', '262_IPHONE-SE_S.jpg', '278_HONOR-7X_S.jpg', '289_WILEYFOX-SWIFT-2-PLUS_S.jpg', '291_IPHONE-SE_S.jpg', '29_HONOR-7X_S.jpg', '304_SAMSUNG-GALAXY-J7_S.jpg', '309_SAMSUNG-GALAXY-A8_S.jpg', '311_HONOR-6X_S.jpg', '315_HUAWEI-NOVA-LITE_S.jpg', '317_IPHONE-8-PLUS_S.jpg', '31_IPHONE-SE_S.jpg', '320_HONOR-7X_S.jpg', '322_HONOR-7C_S.jpg', '325_SAMSUNG-GALAXY-J3_S.jpg', '329_HONOR-7C_S.jpg', '32_HUAWEI-P-SMART_S.jpg', '332_XIAOMI-PROCOFONE-F1_S.jpg', '333_HONOR-7X_S.jpg', '338_IPHONE-SE_S.jpg', '33_HONOR-8X_S.jpg', '343_XIAOMI-PROCOFONE-F1_S.jpg', '349_IPHONE-SE_S.jpg', '36_HONOR-8X_S.jpg', '3_HUAWEI-NOVA-LITE_S.jpg', '45_HONOR-7X_S.jpg', '47_XIAOMI-REDMI-7_S.jpg', '48_HONOR-8X_S.jpg', '50_HONOR-8X_S.jpg', '51_IPHONE-SE_S.jpg', '52_HONOR-8X_S.jpg', '56_HONOR-8X_S.jpg', '57_IPHONE-SE_S.jpg', '61_XIAOMI-REDMI-7_S.jpg', '64_SAMSUNG-GALAXY-S5_S.jpg', '66_HONOR-8X_S.jpg', '67_HONOR-8X_S.jpg', '69_SAMSUNG-GALAXY-J3_S.jpg', '70_HONOR-8X_S.jpg', '71_SAMSUNG-GALAXY-A6_S.jpg', '74_HONOR-8X_S.jpg', '81_SAMSUNG-GALAXY-J3_S.jpg', '82_HONOR-8X_S.jpg', '83_HONOR-8X_S.jpg', '86_HONOR-8X_S.jpg', '88_HONOR-8X_S.jpg', '91_HONOR-7X_S.jpg', '96_HONOR-7X_S.jpg', '97_HONOR-7X_S.jpg']\n"
     ]
    },
    {
     "ename": "KeyboardInterrupt",
     "evalue": "",
     "output_type": "error",
     "traceback": [
      "\u001b[1;31m---------------------------------------------------------------------------\u001b[0m",
      "\u001b[1;31mKeyboardInterrupt\u001b[0m                         Traceback (most recent call last)",
      "Cell \u001b[1;32mIn[16], line 41\u001b[0m\n\u001b[0;32m     39\u001b[0m threshold_values \u001b[38;5;241m=\u001b[39m \u001b[38;5;28mrange\u001b[39m(\u001b[38;5;241m10\u001b[39m, \u001b[38;5;241m501\u001b[39m, \u001b[38;5;241m50\u001b[39m)\n\u001b[0;32m     40\u001b[0m \u001b[38;5;28;01mfor\u001b[39;00m threshold \u001b[38;5;129;01min\u001b[39;00m threshold_values:\n\u001b[1;32m---> 41\u001b[0m     accuracy, blur_errors, sharp_errors \u001b[38;5;241m=\u001b[39m \u001b[43mcalculate_accuracy_and_errors\u001b[49m\u001b[43m(\u001b[49m\u001b[43mblur_ground_truth_folder\u001b[49m\u001b[43m,\u001b[49m\u001b[43m \u001b[49m\u001b[43msharp_ground_truth_folder\u001b[49m\u001b[43m,\u001b[49m\u001b[43m \u001b[49m\u001b[43mthreshold\u001b[49m\u001b[43m)\u001b[49m\n\u001b[0;32m     42\u001b[0m     \u001b[38;5;28mprint\u001b[39m(\u001b[38;5;124mf\u001b[39m\u001b[38;5;124m'\u001b[39m\u001b[38;5;124mThreshold: \u001b[39m\u001b[38;5;132;01m{\u001b[39;00mthreshold\u001b[38;5;132;01m}\u001b[39;00m\u001b[38;5;124m, Akurasi: \u001b[39m\u001b[38;5;132;01m{\u001b[39;00maccuracy\u001b[38;5;250m \u001b[39m\u001b[38;5;241m*\u001b[39m\u001b[38;5;250m \u001b[39m\u001b[38;5;241m100\u001b[39m\u001b[38;5;132;01m:\u001b[39;00m\u001b[38;5;124m.2f\u001b[39m\u001b[38;5;132;01m}\u001b[39;00m\u001b[38;5;124m%\u001b[39m\u001b[38;5;124m'\u001b[39m)\n\u001b[0;32m     43\u001b[0m     \u001b[38;5;28mprint\u001b[39m(\u001b[38;5;124mf\u001b[39m\u001b[38;5;124m'\u001b[39m\u001b[38;5;124mGambar blur yang salah diklasifikasikan sebagai tajam: \u001b[39m\u001b[38;5;132;01m{\u001b[39;00m\u001b[38;5;28mlen\u001b[39m(blur_errors)\u001b[38;5;132;01m}\u001b[39;00m\u001b[38;5;124m'\u001b[39m)\n",
      "Cell \u001b[1;32mIn[16], line 30\u001b[0m, in \u001b[0;36mcalculate_accuracy_and_errors\u001b[1;34m(blur_folder, sharp_folder, threshold)\u001b[0m\n\u001b[0;32m     28\u001b[0m file_path \u001b[38;5;241m=\u001b[39m os\u001b[38;5;241m.\u001b[39mpath\u001b[38;5;241m.\u001b[39mjoin(sharp_folder, filename)\n\u001b[0;32m     29\u001b[0m total_images \u001b[38;5;241m+\u001b[39m\u001b[38;5;241m=\u001b[39m \u001b[38;5;241m1\u001b[39m\n\u001b[1;32m---> 30\u001b[0m \u001b[38;5;28;01mif\u001b[39;00m \u001b[38;5;129;01mnot\u001b[39;00m \u001b[43mis_blur\u001b[49m\u001b[43m(\u001b[49m\u001b[43mfile_path\u001b[49m\u001b[43m,\u001b[49m\u001b[43m \u001b[49m\u001b[43mthreshold\u001b[49m\u001b[43m)\u001b[49m:\n\u001b[0;32m     31\u001b[0m     correct_predictions \u001b[38;5;241m+\u001b[39m\u001b[38;5;241m=\u001b[39m \u001b[38;5;241m1\u001b[39m\n\u001b[0;32m     32\u001b[0m \u001b[38;5;28;01melse\u001b[39;00m:\n",
      "Cell \u001b[1;32mIn[16], line 6\u001b[0m, in \u001b[0;36mis_blur\u001b[1;34m(image_path, threshold)\u001b[0m\n\u001b[0;32m      5\u001b[0m \u001b[38;5;28;01mdef\u001b[39;00m \u001b[38;5;21mis_blur\u001b[39m(image_path, threshold):\n\u001b[1;32m----> 6\u001b[0m     image \u001b[38;5;241m=\u001b[39m \u001b[43mcv2\u001b[49m\u001b[38;5;241;43m.\u001b[39;49m\u001b[43mimread\u001b[49m\u001b[43m(\u001b[49m\u001b[43mimage_path\u001b[49m\u001b[43m)\u001b[49m\n\u001b[0;32m      7\u001b[0m     gray \u001b[38;5;241m=\u001b[39m cv2\u001b[38;5;241m.\u001b[39mcvtColor(image, cv2\u001b[38;5;241m.\u001b[39mCOLOR_BGR2GRAY)\n\u001b[0;32m      8\u001b[0m     laplacian_var \u001b[38;5;241m=\u001b[39m cv2\u001b[38;5;241m.\u001b[39mLaplacian(gray, cv2\u001b[38;5;241m.\u001b[39mCV_64F)\u001b[38;5;241m.\u001b[39mvar()\n",
      "\u001b[1;31mKeyboardInterrupt\u001b[0m: "
     ]
    }
   ],
   "source": [
    "# Path relatif ke folder ground truth\n",
    "blur_ground_truth_folder = r'D:\\Documents\\AMIKOM\\Semester 6\\PROYEK DATA MINING\\archive\\blur_dataset_scaled\\defocused_blurred'\n",
    "sharp_ground_truth_folder = r'D:\\Documents\\AMIKOM\\Semester 6\\PROYEK DATA MINING\\archive\\blur_dataset_scaled\\sharp'\n",
    "\n",
    "def is_blur(image_path, threshold):\n",
    "    image = cv2.imread(image_path)\n",
    "    gray = cv2.cvtColor(image, cv2.COLOR_BGR2GRAY)\n",
    "    laplacian_var = cv2.Laplacian(gray, cv2.CV_64F).var()\n",
    "    return laplacian_var < threshold\n",
    "\n",
    "def calculate_accuracy_and_errors(blur_folder, sharp_folder, threshold):\n",
    "    correct_predictions = 0\n",
    "    total_images = 0\n",
    "    blur_errors = []\n",
    "    sharp_errors = []\n",
    "\n",
    "    for filename in os.listdir(blur_folder):\n",
    "        if filename.endswith('.jpg') or filename.endswith('.png'):\n",
    "            file_path = os.path.join(blur_folder, filename)\n",
    "            total_images += 1\n",
    "            if is_blur(file_path, threshold):\n",
    "                correct_predictions += 1\n",
    "            else:\n",
    "                blur_errors.append(filename)\n",
    "\n",
    "    for filename in os.listdir(sharp_folder):\n",
    "        if filename.endswith('.jpg') or filename.endswith('.png'):\n",
    "            file_path = os.path.join(sharp_folder, filename)\n",
    "            total_images += 1\n",
    "            if not is_blur(file_path, threshold):\n",
    "                correct_predictions += 1\n",
    "            else:\n",
    "                sharp_errors.append(filename)\n",
    "\n",
    "    accuracy = correct_predictions / total_images\n",
    "    return accuracy, blur_errors, sharp_errors\n",
    "\n",
    "# Menguji beberapa nilai threshold\n",
    "threshold_values = range(10, 210, 50)\n",
    "for threshold in threshold_values:\n",
    "    accuracy, blur_errors, sharp_errors = calculate_accuracy_and_errors(blur_ground_truth_folder, sharp_ground_truth_folder, threshold)\n",
    "    print(f'Threshold: {threshold}, Akurasi: {accuracy * 100:.2f}%')\n",
    "    print(f'Gambar blur yang salah diklasifikasikan sebagai tajam: {len(blur_errors)}')\n",
    "    print(f'Gambar tajam yang salah diklasifikasikan sebagai blur: {len(sharp_errors)}')\n",
    "    print(f'Gambar blur yang salah diklasifikasikan: {blur_errors}')\n",
    "    print(f'Gambar tajam yang salah diklasifikasikan: {sharp_errors}')"
   ]
  }
 ],
 "metadata": {
  "kernelspec": {
   "display_name": "Python 3",
   "language": "python",
   "name": "python3"
  },
  "language_info": {
   "codemirror_mode": {
    "name": "ipython",
    "version": 3
   },
   "file_extension": ".py",
   "mimetype": "text/x-python",
   "name": "python",
   "nbconvert_exporter": "python",
   "pygments_lexer": "ipython3",
   "version": "3.11.8"
  }
 },
 "nbformat": 4,
 "nbformat_minor": 2
}
